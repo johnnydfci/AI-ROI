{
 "cells": [
  {
   "cell_type": "markdown",
   "metadata": {},
   "source": [
    "## Concordances of DL-parenchymal vs. ground-truth attenuation. \n",
    "\n",
    "Figure 4. Concordances of DL-parenchymal vs. ground-truth attenuation. DL-parenchymal attenuation was compared to ground-truth attenuations on partitioned datasets (development set: n=399, internal test set: n=80, external test set: n=535). The scatter plot shows the p value, slope, and Spearman correlation coefficient. The agreement was further assessed using Bland-Altman analysis, with liver attenuations in Hounsfield units (HU) on the x-axis. The bold line represents the actual mean difference (error), and the other two dotted lines show 95% limits of agreements.  \n",
    "\n",
    "This script derives the concordance of DL-parenchymal attenuation on the internal and external data: 4.b and 4.c"
   ]
  },
  {
   "cell_type": "code",
   "execution_count": 1,
   "metadata": {
    "scrolled": true
   },
   "outputs": [
    {
     "name": "stdout",
     "output_type": "stream",
     "text": [
      "(535, 8)\n"
     ]
    },
    {
     "data": {
      "text/html": [
       "<div>\n",
       "<style scoped>\n",
       "    .dataframe tbody tr th:only-of-type {\n",
       "        vertical-align: middle;\n",
       "    }\n",
       "\n",
       "    .dataframe tbody tr th {\n",
       "        vertical-align: top;\n",
       "    }\n",
       "\n",
       "    .dataframe thead th {\n",
       "        text-align: right;\n",
       "    }\n",
       "</style>\n",
       "<table border=\"1\" class=\"dataframe\">\n",
       "  <thead>\n",
       "    <tr style=\"text-align: right;\">\n",
       "      <th></th>\n",
       "      <th>partition</th>\n",
       "      <th>data_set</th>\n",
       "      <th>CT_id</th>\n",
       "      <th>nnunet_to_roi</th>\n",
       "      <th>nnunet_to_3d</th>\n",
       "      <th>nnunet_to_2d</th>\n",
       "      <th>manual_select_roi</th>\n",
       "      <th>manual_hs</th>\n",
       "    </tr>\n",
       "  </thead>\n",
       "  <tbody>\n",
       "    <tr>\n",
       "      <th>0</th>\n",
       "      <td>External_test</td>\n",
       "      <td>covid_china</td>\n",
       "      <td>covid_0700</td>\n",
       "      <td>50.85702</td>\n",
       "      <td>52.90228</td>\n",
       "      <td>51.26072</td>\n",
       "      <td>54.7063</td>\n",
       "      <td>0</td>\n",
       "    </tr>\n",
       "    <tr>\n",
       "      <th>1</th>\n",
       "      <td>External_test</td>\n",
       "      <td>covid_china</td>\n",
       "      <td>covid_0701</td>\n",
       "      <td>55.18537</td>\n",
       "      <td>57.69963</td>\n",
       "      <td>56.67069</td>\n",
       "      <td>59.8407</td>\n",
       "      <td>0</td>\n",
       "    </tr>\n",
       "    <tr>\n",
       "      <th>2</th>\n",
       "      <td>External_test</td>\n",
       "      <td>covid_china</td>\n",
       "      <td>covid_0702</td>\n",
       "      <td>44.04323</td>\n",
       "      <td>48.89912</td>\n",
       "      <td>46.94244</td>\n",
       "      <td>44.0310</td>\n",
       "      <td>0</td>\n",
       "    </tr>\n",
       "    <tr>\n",
       "      <th>3</th>\n",
       "      <td>External_test</td>\n",
       "      <td>covid_china</td>\n",
       "      <td>covid_0703</td>\n",
       "      <td>36.60765</td>\n",
       "      <td>39.93153</td>\n",
       "      <td>39.90219</td>\n",
       "      <td>42.0273</td>\n",
       "      <td>0</td>\n",
       "    </tr>\n",
       "    <tr>\n",
       "      <th>4</th>\n",
       "      <td>External_test</td>\n",
       "      <td>covid_china</td>\n",
       "      <td>covid_0704</td>\n",
       "      <td>56.26933</td>\n",
       "      <td>55.38742</td>\n",
       "      <td>55.31121</td>\n",
       "      <td>56.4772</td>\n",
       "      <td>0</td>\n",
       "    </tr>\n",
       "  </tbody>\n",
       "</table>\n",
       "</div>"
      ],
      "text/plain": [
       "       partition     data_set       CT_id  nnunet_to_roi  nnunet_to_3d  \\\n",
       "0  External_test  covid_china  covid_0700       50.85702      52.90228   \n",
       "1  External_test  covid_china  covid_0701       55.18537      57.69963   \n",
       "2  External_test  covid_china  covid_0702       44.04323      48.89912   \n",
       "3  External_test  covid_china  covid_0703       36.60765      39.93153   \n",
       "4  External_test  covid_china  covid_0704       56.26933      55.38742   \n",
       "\n",
       "   nnunet_to_2d  manual_select_roi  manual_hs  \n",
       "0      51.26072            54.7063          0  \n",
       "1      56.67069            59.8407          0  \n",
       "2      46.94244            44.0310          0  \n",
       "3      39.90219            42.0273          0  \n",
       "4      55.31121            56.4772          0  "
      ]
     },
     "execution_count": 1,
     "metadata": {},
     "output_type": "execute_result"
    }
   ],
   "source": [
    "import pandas as pd\n",
    "\n",
    "csv_dir = '/mnt/hgfs/VM_share/liver_project/csv_to_github/'\n",
    "csv_path = 'Liver_attenuation_AI_vs_manual_ROI_n_615.csv'\n",
    "\n",
    "df_init = pd.read_csv(csv_dir + csv_path)\n",
    "df_init = df_init[df_init['partition'] == 'External_test']  # dataframe retained within external tests\n",
    "# df_init = df_init[df_init['partition'] != 'External_test'] # dataframe retained within internal tests\n",
    "\n",
    "print(df_init.shape)\n",
    "df_init.head()"
   ]
  },
  {
   "cell_type": "code",
   "execution_count": 2,
   "metadata": {
    "scrolled": true
   },
   "outputs": [
    {
     "name": "stdout",
     "output_type": "stream",
     "text": [
      "Liver attenuation of  manual_select_roi len: 535\n",
      "np.mean 52.32 np.std 11.38 \n",
      "\n",
      "Liver attenuation of  nnunet_to_roi  length: 535\n",
      "np.mean 51.38 np.std 11.32\n",
      "mse 2.432 \n",
      "\n",
      "spearman correlation SpearmanrResult(correlation=0.9485880940944352, pvalue=1.862403512302503e-268)\n",
      "nnunet_to_roi ks_p_value 0.5037924430548701  NS NS NS \n",
      "\n",
      "\n",
      "\n",
      "\n",
      "\n",
      "Liver attenuation of  nnunet_to_3d  length: 535\n",
      "np.mean 50.8 np.std 10.22\n",
      "mse 2.517 \n",
      "\n",
      "spearman correlation SpearmanrResult(correlation=0.9616244082129685, pvalue=1.542081733436399e-301)\n",
      "nnunet_to_3d ks_p_value 0.012723510345422684  Significant\n",
      "\n",
      "\n",
      "\n",
      "\n",
      "\n",
      "Liver attenuation of  nnunet_to_2d  length: 535\n",
      "np.mean 51.15 np.std 10.0\n",
      "mse 2.616 \n",
      "\n",
      "spearman correlation SpearmanrResult(correlation=0.9488298145742134, pvalue=5.481141030124024e-269)\n",
      "nnunet_to_2d ks_p_value 0.022442678808725133  Significant\n",
      "\n",
      "\n",
      "\n",
      "\n",
      "\n"
     ]
    }
   ],
   "source": [
    "# Compute the mean absolute error, P value, and spearman correlation between AI-ROI and manual-ROI selection\n",
    "from scipy import stats\n",
    "import numpy as np\n",
    "density_col = ['manual_select_roi','nnunet_to_roi', 'nnunet_to_3d', 'nnunet_to_2d']\n",
    "\n",
    "density_gd = df_init[density_col[0]]\n",
    "mean = round(np.mean(density_gd),2)\n",
    "print('Liver attenuation of ', density_col[0], 'len:',len(density_gd))\n",
    "std = round(np.std(density_gd),2)\n",
    "print('np.mean',mean, 'np.std',std,'\\n')\n",
    "\n",
    "for i in range(1,len(density_col)):\n",
    "    density_compare = df_init[density_col[i]]\n",
    "    print('Liver attenuation of ',density_col[i], ' length:',len(density_compare))\n",
    "    mean = round(np.mean(density_compare),2)\n",
    "    std = round(np.std(density_compare),2)\n",
    "    print('np.mean',mean, 'np.std',std)\n",
    "    mse = np.sum(abs(density_compare - density_gd)) / len(density_compare)\n",
    "    print('mse',round(mse,3), '\\n')\n",
    "    \n",
    "    sp_cor = stats.spearmanr(density_compare,density_gd)\n",
    "    print('spearman correlation', sp_cor)\n",
    "    \n",
    "    ks_s, ks_p = stats.ks_2samp(density_compare,density_gd)\n",
    "    if ks_p >0.05:\n",
    "        print(density_col[i], 'ks_p_value',ks_p,' NS NS NS ')\n",
    "    if ks_p <=0.05:\n",
    "        print(density_col[i], 'ks_p_value',ks_p,' Significant')\n",
    "    print('\\n\\n\\n\\n')"
   ]
  },
  {
   "cell_type": "code",
   "execution_count": 3,
   "metadata": {},
   "outputs": [
    {
     "name": "stdout",
     "output_type": "stream",
     "text": [
      "slope w： [[0.95586895]]\n",
      "interception b： [1.37162005]\n"
     ]
    }
   ],
   "source": [
    "# Compute the slope of scattor plot\n",
    "\n",
    "from sklearn import linear_model\n",
    "\n",
    "col = ['manual_select_roi','nnunet_to_roi'] #'density_of_roi_seg_unet_nlst'\n",
    "\n",
    "density_gd = df_init[col[0]]\n",
    "density_seg_roi = df_init[col[1]]\n",
    "\n",
    "model = linear_model.LinearRegression()\n",
    "x_new = np.array(density_gd).reshape(-1, 1)\n",
    "y_new = np.array(density_seg_roi).reshape(-1, 1)\n",
    "\n",
    "model.fit(x_new, y_new )\n",
    "\n",
    "print(\"slope w：\", model.coef_)\n",
    "print(\"interception b：\", model.intercept_)"
   ]
  },
  {
   "cell_type": "code",
   "execution_count": 4,
   "metadata": {},
   "outputs": [
    {
     "data": {
      "text/plain": [
       "<Figure size 720x720 with 0 Axes>"
      ]
     },
     "metadata": {},
     "output_type": "display_data"
    },
    {
     "data": {
      "image/png": "[encoded data removed]",
      "text/plain": [
       "<Figure size 432x432 with 3 Axes>"
      ]
     },
     "metadata": {},
     "output_type": "display_data"
    }
   ],
   "source": [
    "import seaborn as sns\n",
    "import matplotlib.pyplot as plt\n",
    "\n",
    "sns.set(rc={\"figure.figsize\":(10, 10)}) \n",
    "sns.set_style(\"ticks\")\n",
    "\n",
    "sns.despine()\n",
    "\n",
    "min_lim, max_lim = -20, 100\n",
    "\n",
    "ax = sns.jointplot(data=df_init, x=col[0], y=col[1] , color = '#1d74c0ff',\n",
    "              marginal_kws = dict(bins= 20), space = 0.1,ratio = 8\n",
    "              , xlim=[min_lim, max_lim], ylim=[min_lim, max_lim]\n",
    "              , kind = 'reg'\n",
    "              , scatter_kws={'s': 15}\n",
    "             )\n",
    "ax.fig.set_size_inches(6,6)\n",
    "plt.savefig( 'png/joint_plot_' + col[0] + '_' +col[1] +'.png', dpi = 500)\n"
   ]
  },
  {
   "cell_type": "code",
   "execution_count": 5,
   "metadata": {},
   "outputs": [
    {
     "name": "stdout",
     "output_type": "stream",
     "text": [
      "Std of difference  3.1759819263496816\n",
      "1.96std of abs difference  6.2249245756453755\n",
      "Mean of  difference -0.9373769158878507\n",
      "Mean +1.96std 5.287547659757525\n",
      "Mean -1.96std -7.162301491533226\n",
      "Len(outliers) 25 Len of all test images 535  = % 4.672897196261682\n"
     ]
    }
   ],
   "source": [
    "[colgd, colai ]  = ['manual_select_roi','nnunet_to_roi']\n",
    "\n",
    "x_ax = np.array(df_init[colgd])\n",
    "y_ax = (np.array(df_init[colai]) - np.array(df_init[colgd])) \n",
    "\n",
    "std196 = 1.96*np.std((y_ax))\n",
    "print('Std of difference ',np.std((y_ax)))\n",
    "print('1.96std of abs difference ',std196)\n",
    "\n",
    "mean_dif = np.mean((y_ax))\n",
    "print('Mean of  difference', mean_dif)\n",
    "print('Mean +1.96std', mean_dif+ std196)\n",
    "print('Mean -1.96std', mean_dif- std196)\n",
    "\n",
    "outliers = []\n",
    "for y_value in y_ax:\n",
    "    if y_value < mean_dif- std196 or y_value > mean_dif + std196:\n",
    "        outliers.append(y_value)\n",
    "print('Len(outliers)',len(outliers), 'Len of all test images',len(y_ax),' = %', len(outliers)/ len(y_ax) *100)"
   ]
  },
  {
   "cell_type": "code",
   "execution_count": 6,
   "metadata": {},
   "outputs": [
    {
     "data": {
      "image/png": "[encoded data removed]",
      "text/plain": [
       "<Figure size 432x432 with 1 Axes>"
      ]
     },
     "metadata": {
      "needs_background": "light"
     },
     "output_type": "display_data"
    }
   ],
   "source": [
    "import matplotlib.pyplot as plt\n",
    "%matplotlib inline\n",
    "\n",
    "\n",
    "fig, ax = plt.subplots(1, 1, figsize=(6, 6))\n",
    "\n",
    "min_x, max_x = -20, 100\n",
    "min_y, max_y = -20,20\n",
    "\n",
    "ax.plot(x_ax, y_ax, '.', markersize= 10, color='#1878d3ff', alpha = 0.6       )\n",
    "\n",
    "ax.plot([min_x, max_x], [mean_dif, mean_dif], '--', color='black', linewidth=1.5)\n",
    "ax.plot([min_x, max_x], [mean_dif+ std196, mean_dif +  std196], '--', color='black', linewidth=1)\n",
    "ax.plot([min_x, max_x], [mean_dif - std196, mean_dif -  std196], '--', color='black', linewidth= 1)\n",
    "\n",
    "ax.set_xlim(min_x, max_x)\n",
    "ax.set_ylim(min_y, max_y)\n",
    "\n",
    "ax.tick_params(axis='x', which='both', bottom=False, labelbottom=True, labelsize=14)\n",
    "ax.tick_params(axis='y', which='both', left=False, labelleft=True, labelsize=14)\n",
    "\n",
    "plt.savefig( 'png/Mean_dif_' + colgd +'.png', dpi = 500)\n"
   ]
  },
  {
   "cell_type": "code",
   "execution_count": null,
   "metadata": {},
   "outputs": [],
   "source": []
  },
  {
   "cell_type": "code",
   "execution_count": null,
   "metadata": {},
   "outputs": [],
   "source": []
  }
 ],
 "metadata": {
  "kernelspec": {
   "display_name": "Python [conda env:liverfat] *",
   "language": "python",
   "name": "conda-env-liverfat-py"
  },
  "language_info": {
   "codemirror_mode": {
    "name": "ipython",
    "version": 3
   },
   "file_extension": ".py",
   "mimetype": "text/x-python",
   "name": "python",
   "nbconvert_exporter": "python",
   "pygments_lexer": "ipython3",
   "version": "3.8.5"
  }
 },
 "nbformat": 4,
 "nbformat_minor": 4
}
