{
 "cells": [
  {
   "cell_type": "markdown",
   "metadata": {},
   "source": [
    "## Liver attenuation displayed in histogram\n",
    "\n"
   ]
  },
  {
   "cell_type": "code",
   "execution_count": 1,
   "metadata": {
    "scrolled": true
   },
   "outputs": [
    {
     "name": "stdout",
     "output_type": "stream",
     "text": [
      "(615, 7)\n"
     ]
    },
    {
     "data": {
      "text/html": [
       "<div>\n",
       "<style scoped>\n",
       "    .dataframe tbody tr th:only-of-type {\n",
       "        vertical-align: middle;\n",
       "    }\n",
       "\n",
       "    .dataframe tbody tr th {\n",
       "        vertical-align: top;\n",
       "    }\n",
       "\n",
       "    .dataframe thead th {\n",
       "        text-align: right;\n",
       "    }\n",
       "</style>\n",
       "<table border=\"1\" class=\"dataframe\">\n",
       "  <thead>\n",
       "    <tr style=\"text-align: right;\">\n",
       "      <th></th>\n",
       "      <th>data_set</th>\n",
       "      <th>CT_id</th>\n",
       "      <th>nnunet_to_roi</th>\n",
       "      <th>nnunet_to_3d</th>\n",
       "      <th>nnunet_to_2d</th>\n",
       "      <th>manual_select_roi</th>\n",
       "      <th>manual_hs</th>\n",
       "    </tr>\n",
       "  </thead>\n",
       "  <tbody>\n",
       "    <tr>\n",
       "      <th>0</th>\n",
       "      <td>covid_china</td>\n",
       "      <td>covid_0700</td>\n",
       "      <td>50.85702</td>\n",
       "      <td>52.90228</td>\n",
       "      <td>51.26072</td>\n",
       "      <td>54.7063</td>\n",
       "      <td>0</td>\n",
       "    </tr>\n",
       "    <tr>\n",
       "      <th>1</th>\n",
       "      <td>covid_china</td>\n",
       "      <td>covid_0701</td>\n",
       "      <td>55.18537</td>\n",
       "      <td>57.69963</td>\n",
       "      <td>56.67069</td>\n",
       "      <td>59.8407</td>\n",
       "      <td>0</td>\n",
       "    </tr>\n",
       "    <tr>\n",
       "      <th>2</th>\n",
       "      <td>covid_china</td>\n",
       "      <td>covid_0702</td>\n",
       "      <td>44.04323</td>\n",
       "      <td>48.89912</td>\n",
       "      <td>46.94244</td>\n",
       "      <td>44.0310</td>\n",
       "      <td>0</td>\n",
       "    </tr>\n",
       "    <tr>\n",
       "      <th>3</th>\n",
       "      <td>covid_china</td>\n",
       "      <td>covid_0703</td>\n",
       "      <td>36.60765</td>\n",
       "      <td>39.93153</td>\n",
       "      <td>39.90219</td>\n",
       "      <td>42.0273</td>\n",
       "      <td>0</td>\n",
       "    </tr>\n",
       "    <tr>\n",
       "      <th>4</th>\n",
       "      <td>covid_china</td>\n",
       "      <td>covid_0704</td>\n",
       "      <td>56.26933</td>\n",
       "      <td>55.38742</td>\n",
       "      <td>55.31121</td>\n",
       "      <td>56.4772</td>\n",
       "      <td>0</td>\n",
       "    </tr>\n",
       "  </tbody>\n",
       "</table>\n",
       "</div>"
      ],
      "text/plain": [
       "      data_set       CT_id  nnunet_to_roi  nnunet_to_3d  nnunet_to_2d  \\\n",
       "0  covid_china  covid_0700       50.85702      52.90228      51.26072   \n",
       "1  covid_china  covid_0701       55.18537      57.69963      56.67069   \n",
       "2  covid_china  covid_0702       44.04323      48.89912      46.94244   \n",
       "3  covid_china  covid_0703       36.60765      39.93153      39.90219   \n",
       "4  covid_china  covid_0704       56.26933      55.38742      55.31121   \n",
       "\n",
       "   manual_select_roi  manual_hs  \n",
       "0            54.7063          0  \n",
       "1            59.8407          0  \n",
       "2            44.0310          0  \n",
       "3            42.0273          0  \n",
       "4            56.4772          0  "
      ]
     },
     "execution_count": 1,
     "metadata": {},
     "output_type": "execute_result"
    }
   ],
   "source": [
    "import pandas as pd\n",
    "\n",
    "csv_dir = '/mnt/hgfs/VM_share/liver_project/csv_to_github/'\n",
    "csv_path = 'Liver_attenuation_AI_vs_manual_ROI_n_615.csv'\n",
    "\n",
    "df_init = pd.read_csv(csv_dir + csv_path)\n",
    "print(df_init.shape)\n",
    "df_init.head()"
   ]
  },
  {
   "cell_type": "code",
   "execution_count": 2,
   "metadata": {},
   "outputs": [
    {
     "data": {
      "text/plain": [
       "['data_set',\n",
       " 'CT_id',\n",
       " 'nnunet_to_roi',\n",
       " 'nnunet_to_3d',\n",
       " 'nnunet_to_2d',\n",
       " 'manual_select_roi',\n",
       " 'manual_hs']"
      ]
     },
     "execution_count": 2,
     "metadata": {},
     "output_type": "execute_result"
    }
   ],
   "source": [
    "list(df_init)       # **AI-ROI : nnunet_to_roi    \n",
    "                    # AI-3D  : 'nnunet_to_3d' \n",
    "                    # AI-2D: 'nnunet_to_2d'\n",
    "                    # Ground-truth attenuation : 'manual_select_roi'\n",
    "                    # Ground-truth steatosis categorization: 'manual_hs'\n"
   ]
  },
  {
   "cell_type": "code",
   "execution_count": 3,
   "metadata": {},
   "outputs": [
    {
     "data": {
      "image/png": "[encoded data removed]",
      "text/plain": [
       "<Figure size 1080x432 with 2 Axes>"
      ]
     },
     "metadata": {
      "needs_background": "light"
     },
     "output_type": "display_data"
    }
   ],
   "source": [
    "import numpy as np\n",
    "import matplotlib.pyplot as plt\n",
    "%matplotlib inline\n",
    "\n",
    "fig = plt.figure(figsize=(15,6)) # \n",
    "ax = fig.add_subplot(121) #\n",
    "ns,edgeBin,patches = plt.hist(df_init['manual_select_roi'],bins=30,rwidth=0.8,color = '#43d665')\n",
    "ax = fig.add_subplot(122)\n",
    "ns,edgeBin,patches = plt.hist(df_init['nnunet_to_roi'],bins=30,rwidth=0.8)\n",
    "# plt.savefig('nnunet_to_roi_histgram.png', dpi = 500)"
   ]
  },
  {
   "cell_type": "code",
   "execution_count": null,
   "metadata": {},
   "outputs": [],
   "source": []
  },
  {
   "cell_type": "code",
   "execution_count": null,
   "metadata": {},
   "outputs": [],
   "source": []
  }
 ],
 "metadata": {
  "kernelspec": {
   "display_name": "Python [conda env:liverfat] *",
   "language": "python",
   "name": "conda-env-liverfat-py"
  },
  "language_info": {
   "codemirror_mode": {
    "name": "ipython",
    "version": 3
   },
   "file_extension": ".py",
   "mimetype": "text/x-python",
   "name": "python",
   "nbconvert_exporter": "python",
   "pygments_lexer": "ipython3",
   "version": "3.8.5"
  }
 },
 "nbformat": 4,
 "nbformat_minor": 4
}
