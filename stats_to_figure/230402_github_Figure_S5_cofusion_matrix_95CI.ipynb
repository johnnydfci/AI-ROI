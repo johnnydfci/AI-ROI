{
 "cells": [
  {
   "cell_type": "code",
   "execution_count": 2,
   "metadata": {
    "scrolled": true
   },
   "outputs": [
    {
     "name": "stdout",
     "output_type": "stream",
     "text": [
      "(535, 8)\n"
     ]
    },
    {
     "data": {
      "text/html": [
       "<div>\n",
       "<style scoped>\n",
       "    .dataframe tbody tr th:only-of-type {\n",
       "        vertical-align: middle;\n",
       "    }\n",
       "\n",
       "    .dataframe tbody tr th {\n",
       "        vertical-align: top;\n",
       "    }\n",
       "\n",
       "    .dataframe thead th {\n",
       "        text-align: right;\n",
       "    }\n",
       "</style>\n",
       "<table border=\"1\" class=\"dataframe\">\n",
       "  <thead>\n",
       "    <tr style=\"text-align: right;\">\n",
       "      <th></th>\n",
       "      <th>partition</th>\n",
       "      <th>data_set</th>\n",
       "      <th>CT_id</th>\n",
       "      <th>nnunet_to_roi</th>\n",
       "      <th>nnunet_to_3d</th>\n",
       "      <th>nnunet_to_2d</th>\n",
       "      <th>manual_select_roi</th>\n",
       "      <th>manual_hs</th>\n",
       "    </tr>\n",
       "  </thead>\n",
       "  <tbody>\n",
       "    <tr>\n",
       "      <th>0</th>\n",
       "      <td>External_test</td>\n",
       "      <td>covid_china</td>\n",
       "      <td>covid_0700</td>\n",
       "      <td>50.85702</td>\n",
       "      <td>52.90228</td>\n",
       "      <td>51.26072</td>\n",
       "      <td>54.7063</td>\n",
       "      <td>0</td>\n",
       "    </tr>\n",
       "    <tr>\n",
       "      <th>1</th>\n",
       "      <td>External_test</td>\n",
       "      <td>covid_china</td>\n",
       "      <td>covid_0701</td>\n",
       "      <td>55.18537</td>\n",
       "      <td>57.69963</td>\n",
       "      <td>56.67069</td>\n",
       "      <td>59.8407</td>\n",
       "      <td>0</td>\n",
       "    </tr>\n",
       "    <tr>\n",
       "      <th>2</th>\n",
       "      <td>External_test</td>\n",
       "      <td>covid_china</td>\n",
       "      <td>covid_0702</td>\n",
       "      <td>44.04323</td>\n",
       "      <td>48.89912</td>\n",
       "      <td>46.94244</td>\n",
       "      <td>44.0310</td>\n",
       "      <td>0</td>\n",
       "    </tr>\n",
       "    <tr>\n",
       "      <th>3</th>\n",
       "      <td>External_test</td>\n",
       "      <td>covid_china</td>\n",
       "      <td>covid_0703</td>\n",
       "      <td>36.60765</td>\n",
       "      <td>39.93153</td>\n",
       "      <td>39.90219</td>\n",
       "      <td>42.0273</td>\n",
       "      <td>0</td>\n",
       "    </tr>\n",
       "    <tr>\n",
       "      <th>4</th>\n",
       "      <td>External_test</td>\n",
       "      <td>covid_china</td>\n",
       "      <td>covid_0704</td>\n",
       "      <td>56.26933</td>\n",
       "      <td>55.38742</td>\n",
       "      <td>55.31121</td>\n",
       "      <td>56.4772</td>\n",
       "      <td>0</td>\n",
       "    </tr>\n",
       "  </tbody>\n",
       "</table>\n",
       "</div>"
      ],
      "text/plain": [
       "       partition     data_set       CT_id  nnunet_to_roi  nnunet_to_3d  \\\n",
       "0  External_test  covid_china  covid_0700       50.85702      52.90228   \n",
       "1  External_test  covid_china  covid_0701       55.18537      57.69963   \n",
       "2  External_test  covid_china  covid_0702       44.04323      48.89912   \n",
       "3  External_test  covid_china  covid_0703       36.60765      39.93153   \n",
       "4  External_test  covid_china  covid_0704       56.26933      55.38742   \n",
       "\n",
       "   nnunet_to_2d  manual_select_roi  manual_hs  \n",
       "0      51.26072            54.7063          0  \n",
       "1      56.67069            59.8407          0  \n",
       "2      46.94244            44.0310          0  \n",
       "3      39.90219            42.0273          0  \n",
       "4      55.31121            56.4772          0  "
      ]
     },
     "execution_count": 2,
     "metadata": {},
     "output_type": "execute_result"
    }
   ],
   "source": [
    "import pandas as pd\n",
    "\n",
    "csv_path = '../csv/stats_csv_curated/Liver_attenuation_AI_vs_manual_ROI_n_615.csv'\n",
    "\n",
    "df_init = pd.read_csv(csv_path)\n",
    "df_init = df_init[df_init['partition'] == 'External_test']\n",
    "# df_init = df_init[df_init['partition'] != 'External_test']\n",
    "data = df_init\n",
    "print(data.shape)\n",
    "data.head()"
   ]
  },
  {
   "cell_type": "code",
   "execution_count": 3,
   "metadata": {},
   "outputs": [
    {
     "name": "stdout",
     "output_type": "stream",
     "text": [
      "['LUNG1', 'MIDRC-RICORD', 'covid_china', 'covid_italy', 'RIDER', 'VESSEL12']\n"
     ]
    }
   ],
   "source": [
    "dataset_list = list(set(list(data['data_set'])))\n",
    "print(dataset_list)"
   ]
  },
  {
   "cell_type": "code",
   "execution_count": 4,
   "metadata": {
    "scrolled": true
   },
   "outputs": [
    {
     "name": "stdout",
     "output_type": "stream",
     "text": [
      "LUNG1 test image numbers:  238\n",
      "LUNG1 mean 48.513149831932765 std 9.087030854404485\n",
      "[[209   3]\n",
      " [  3  23]] 209 3 3 23\n",
      "LUNG1 auc 0.935 sensitivity 0.8846153846153846 specificity 0.9858490566037735 \n",
      "\n",
      "\n",
      "\n",
      "\n",
      "MIDRC-RICORD test image numbers:  128\n",
      "MIDRC-RICORD mean 50.865681249999994 std 11.755638694511934\n",
      "[[105   2]\n",
      " [  1  20]] 105 2 1 20\n",
      "MIDRC-RICORD auc 0.967 sensitivity 0.9523809523809523 specificity 0.9813084112149533 \n",
      "\n",
      "\n",
      "\n",
      "\n",
      "covid_china test image numbers:  29\n",
      "covid_china mean 56.428211379310326 std 8.96243063040945\n",
      "[[26  2]\n",
      " [ 0  1]] 26 2 0 1\n",
      "covid_china auc 0.964 sensitivity 1.0 specificity 0.9285714285714286 \n",
      "\n",
      "\n",
      "\n",
      "\n",
      "covid_italy test image numbers:  71\n",
      "covid_italy mean 52.24177788732394 std 11.658353936490771\n",
      "[[59  1]\n",
      " [ 2  9]] 59 1 2 9\n",
      "covid_italy auc 0.901 sensitivity 0.8181818181818182 specificity 0.9833333333333333 \n",
      "\n",
      "\n",
      "\n",
      "\n",
      "RIDER test image numbers:  57\n",
      "RIDER mean 59.79125228070175 std 14.099374371819211\n",
      "[[55  0]\n",
      " [ 0  2]] 55 0 0 2\n",
      "RIDER auc 1.0 sensitivity 1.0 specificity 1.0 \n",
      "\n",
      "\n",
      "\n",
      "\n",
      "VESSEL12 test image numbers:  12\n",
      "VESSEL12 mean 56.65121833333333 std 7.7004979370945374\n"
     ]
    }
   ],
   "source": [
    "import numpy as np\n",
    "from sklearn.metrics import roc_auc_score, confusion_matrix\n",
    "from scipy import stats\n",
    "\n",
    "for dataset_str in dataset_list:\n",
    "#     density_col = \n",
    "    ai_col = 'nnunet_to_roi'\n",
    "    df_show = df_init[df_init['data_set']==dataset_str]\n",
    "    print(dataset_str,'test image numbers: ',df_show.shape[0])\n",
    "    steatosis_l =  df_show['manual_select_roi'] <40\n",
    "    steatosis_ai =  df_show[ai_col] <40\n",
    "\n",
    "    print( dataset_str,'mean',np.mean(df_show[ai_col]),'std',np.std(df_show[ai_col]))\n",
    "    \n",
    "    y_true=steatosis_l\n",
    "    y_pred=steatosis_ai\n",
    "    \n",
    "    if dataset_str != 'VESSEL12' :\n",
    "\n",
    "        auc= roc_auc_score(y_true, y_pred)\n",
    "        auc = round(auc,3)\n",
    "\n",
    "        tn, fp, fn, tp = confusion_matrix(y_true, y_pred).ravel()\n",
    "\n",
    "        sensitivity = tp / (tp + fn) \n",
    "        specificity = tn / (tn + fp) \n",
    "\n",
    "        print(confusion_matrix(y_true, y_pred), tn, fp, fn, tp)\n",
    "        print(dataset_str ,'auc',auc, 'sensitivity', sensitivity, 'specificity',specificity, '\\n\\n\\n\\n' )"
   ]
  },
  {
   "cell_type": "code",
   "execution_count": 5,
   "metadata": {},
   "outputs": [
    {
     "name": "stdout",
     "output_type": "stream",
     "text": [
      "manual_select_roi test image numbers:  535\n",
      "manual_select_roi mean 52.32137171962617 std 11.375102411889841\n",
      "manual_select_roi ks_p_value 1.0  NS NS NS\n",
      "[[474   0]\n",
      " [  0  61]] 474 0 0 61\n",
      "manual_select_roi auc 1.0 sensitivity 1.0 specificity 1.0 \n",
      "\n",
      "\n",
      "\n",
      "\n",
      "nnunet_to_roi test image numbers:  535\n",
      "nnunet_to_roi mean 51.38399480373832 std 11.316329911294533\n",
      "nnunet_to_roi ks_p_value 0.5037924430548701  NS NS NS\n",
      "[[466   8]\n",
      " [  6  55]] 466 8 6 55\n",
      "nnunet_to_roi auc 0.942 sensitivity 0.902 specificity 0.983 \n",
      "\n",
      "\n",
      "\n",
      "\n",
      "nnunet_to_3d test image numbers:  535\n",
      "nnunet_to_3d mean 50.79636540186916 std 10.219125195896073\n",
      "nnunet_to_3d ks_p_value 0.012723510345422684  Significant\n",
      "[[469   5]\n",
      " [  7  54]] 469 5 7 54\n",
      "nnunet_to_3d auc 0.937 sensitivity 0.885 specificity 0.989 \n",
      "\n",
      "\n",
      "\n",
      "\n",
      "nnunet_to_2d test image numbers:  535\n",
      "nnunet_to_2d mean 51.1533031588785 std 10.000524524457214\n",
      "nnunet_to_2d ks_p_value 0.022442678808725133  Significant\n",
      "[[467   7]\n",
      " [  8  53]] 467 7 8 53\n",
      "nnunet_to_2d auc 0.927 sensitivity 0.869 specificity 0.985 \n",
      "\n",
      "\n",
      "\n",
      "\n"
     ]
    }
   ],
   "source": [
    "import numpy as np\n",
    "from sklearn.metrics import roc_auc_score, confusion_matrix\n",
    "from scipy import stats\n",
    "\n",
    "# for ai_class in range(2):\n",
    "for ai_class in range(4):\n",
    "\n",
    "    density_col = ['manual_select_roi','nnunet_to_roi','nnunet_to_3d', 'nnunet_to_2d']\n",
    "    ai_col = density_col[ai_class]\n",
    "    df_show = df_init\n",
    "    print( ai_col ,'test image numbers: ',df_show.shape[0])\n",
    "    steatosis_l =  df_show['manual_select_roi'] <40\n",
    "    steatosis_ai =  df_show[ai_col] <40\n",
    "\n",
    "    print( ai_col ,'mean',np.mean(df_show[ai_col]),'std',np.std(df_show[ai_col]))\n",
    "    ks_s, ks_p = stats.ks_2samp(df_show['manual_select_roi'], df_show[ai_col])\n",
    "    if ks_p >0.05:\n",
    "        print(ai_col, 'ks_p_value',ks_p,' NS NS NS')\n",
    "    if ks_p <=0.05:\n",
    "        print(ai_col, 'ks_p_value',ks_p,' Significant')\n",
    "\n",
    "    y_true=steatosis_l\n",
    "    y_pred=steatosis_ai\n",
    "\n",
    "    auc= roc_auc_score(y_true, y_pred)\n",
    "    auc = round(auc,3)\n",
    "\n",
    "    tn, fp, fn, tp = confusion_matrix(y_true, y_pred).ravel()\n",
    "\n",
    "    sensitivity = tp / (tp + fn) \n",
    "    sensitivity = round(sensitivity,3)\n",
    "    specificity = tn / (tn + fp) \n",
    "    specificity = round(specificity,3)\n",
    "\n",
    "    print(confusion_matrix(y_true, y_pred), tn, fp, fn, tp)\n",
    "    print( ai_col ,'auc',auc, 'sensitivity', sensitivity, 'specificity',specificity, '\\n\\n\\n\\n' )"
   ]
  },
  {
   "cell_type": "code",
   "execution_count": 6,
   "metadata": {},
   "outputs": [
    {
     "data": {
      "image/png": "[encoded data removed]",
      "text/plain": [
       "<Figure size 750x750 with 1 Axes>"
      ]
     },
     "metadata": {},
     "output_type": "display_data"
    }
   ],
   "source": [
    "import matplotlib.pyplot as plt\n",
    "#\n",
    "conf_matrix = confusion_matrix(y_true, y_pred)\n",
    "#\n",
    "# Print the confusion matrix using Matplotlib\n",
    "#\n",
    "fig, ax = plt.subplots(figsize=(7.5, 7.5))\n",
    "ax.matshow(conf_matrix, cmap=plt.cm.Blues, alpha=0.3)\n",
    "for i in range(conf_matrix.shape[0]):\n",
    "    for j in range(conf_matrix.shape[1]):\n",
    "        ax.text(x=j, y=i,s=conf_matrix[i, j], va='center', ha='center', fontsize=25)\n",
    " \n",
    "plt.xlabel('AI', fontsize=18)\n",
    "plt.ylabel('Expert', fontsize=18)\n",
    "plt.title('Confusion Matrix', fontsize=18)\n",
    "plt.imshow(conf_matrix, interpolation='nearest', cmap='Blues')\n",
    "\n",
    "plt.show()"
   ]
  },
  {
   "cell_type": "code",
   "execution_count": 7,
   "metadata": {},
   "outputs": [
    {
     "name": "stdout",
     "output_type": "stream",
     "text": [
      "the result of sklearn package\n",
      "sensitivity :  0.8688524590163934\n",
      "specificity:  0.9852320675105485\n",
      "concordance_rate: 0.9719626168224299\n",
      "sklearn auc: 0.9270422632634708\n",
      "sklearn accuracy: 0.9719626168224299\n",
      "sklearn recall:0.8688524590163934,precision:0.8833333333333333\n",
      "sklearn F1-score:0.8760330578512396\n",
      "specificity :  0.9852320675105485\n",
      "sensitivity :  0.8688524590163934\n",
      "Accuracy :  0.9719626168224299\n"
     ]
    }
   ],
   "source": [
    "from sklearn.metrics import confusion_matrix, accuracy_score, f1_score, roc_auc_score, recall_score, precision_score\n",
    "print(\"the result of sklearn package\")\n",
    "\n",
    "gt = y_true\n",
    "pred = y_pred\n",
    "cm = conf_matrix\n",
    "\n",
    "TN, FP, FN, TP = confusion_matrix(y_true, y_pred).ravel()\n",
    "sensitivity1 =  TP / (TP + FN)\n",
    "print('sensitivity : ', sensitivity1)\n",
    "specificity1 = TN / (TN + FP)\n",
    "print('specificity: ',specificity1)\n",
    "\n",
    "concordance_rate = (cm[0][0] + cm[1][1]) / len(y_pred)\n",
    "\n",
    "print(\"concordance_rate:\",concordance_rate)\n",
    "\n",
    "sklearn_auc = roc_auc_score(gt,pred)\n",
    "\n",
    "print(\"sklearn auc:\",sklearn_auc)\n",
    "accuracy = accuracy_score(gt,pred)\n",
    "print(\"sklearn accuracy:\",accuracy)\n",
    "recal = recall_score(gt,pred)\n",
    "precision = precision_score(gt,pred)\n",
    "print(\"sklearn recall:{},precision:{}\".format(recal,precision))\n",
    "print(\"sklearn F1-score:{}\".format((2*recal*precision)/(recal+precision)))\n",
    "\n",
    "sklearn_specificity1 = cm[0,0]/(cm[0,0]+cm[0,1])\n",
    "print('specificity : ', sklearn_specificity1 )\n",
    "\n",
    "sklearn_sensitivity1 = cm[1,1]/(cm[1,0]+cm[1,1])\n",
    "print('sensitivity : ', sklearn_sensitivity1)\n",
    "\n",
    "accuracy1=(cm[0,0]+cm[1,1])/sum(sum(cm))\n",
    "print ('Accuracy : ', accuracy1)"
   ]
  },
  {
   "cell_type": "code",
   "execution_count": 8,
   "metadata": {},
   "outputs": [
    {
     "ename": "ModuleNotFoundError",
     "evalue": "No module named 'stat_util'",
     "output_type": "error",
     "traceback": [
      "\u001b[0;31m---------------------------------------------------------------------------\u001b[0m",
      "\u001b[0;31mModuleNotFoundError\u001b[0m                       Traceback (most recent call last)",
      "Cell \u001b[0;32mIn [8], line 2\u001b[0m\n\u001b[1;32m      1\u001b[0m \u001b[38;5;28;01mfrom\u001b[39;00m \u001b[38;5;21;01msklearn\u001b[39;00m\u001b[38;5;21;01m.\u001b[39;00m\u001b[38;5;21;01mmetrics\u001b[39;00m \u001b[38;5;28;01mimport\u001b[39;00m roc_auc_score\n\u001b[0;32m----> 2\u001b[0m \u001b[38;5;28;01mimport\u001b[39;00m \u001b[38;5;21;01mstat_util\u001b[39;00m \u001b[38;5;66;03m# stat_util.py is stored besides this jupyter script\u001b[39;00m\n\u001b[1;32m      3\u001b[0m score, ci_lower, ci_upper, scores \u001b[38;5;241m=\u001b[39m stat_util\u001b[38;5;241m.\u001b[39mscore_ci(\n\u001b[1;32m      4\u001b[0m     y_true, y_pred, score_fun\u001b[38;5;241m=\u001b[39mroc_auc_score,  n_bootstraps\u001b[38;5;241m=\u001b[39m\u001b[38;5;241m1000\u001b[39m)\n\u001b[1;32m      5\u001b[0m \u001b[38;5;28mprint\u001b[39m(score, ci_lower, ci_upper)\n",
      "\u001b[0;31mModuleNotFoundError\u001b[0m: No module named 'stat_util'"
     ]
    }
   ],
   "source": [
    "from sklearn.metrics import roc_auc_score\n",
    "import stat_util # stat_util.py is stored besides this jupyter script\n",
    "score, ci_lower, ci_upper, scores = stat_util.score_ci(\n",
    "    y_true, y_pred, score_fun=roc_auc_score,  n_bootstraps=1000)\n",
    "print(score, ci_lower, ci_upper)"
   ]
  },
  {
   "cell_type": "code",
   "execution_count": 9,
   "metadata": {},
   "outputs": [
    {
     "name": "stdout",
     "output_type": "stream",
     "text": [
      "1000\n"
     ]
    }
   ],
   "source": [
    "n_bootstraps = 1000\n",
    "y_true = np.array(y_true)\n",
    "y_preds = np.atleast_2d(y_pred)\n",
    "assert all(len(y_true) == len(y) for y in y_preds)\n",
    "np.random.seed(0)\n",
    "\n",
    "scores_auc = []\n",
    "scores_sense = []\n",
    "scores_spec = [] \n",
    "\n",
    "for i in range(n_bootstraps):\n",
    "    readers = np.random.randint(0, len(y_preds), len(y_preds))\n",
    "    indices = np.random.randint(0, len(y_true), len(y_true))  \n",
    "#     print(' len of class',  len(np.unique(y_true[indices])))\n",
    "    if  len(np.unique(y_true[indices])) < 2:\n",
    "            continue\n",
    "    reader_scores_auc,  reader_scores_sense ,reader_scores_spec = [],[], []\n",
    "#     print(readers)\n",
    "    for r in readers:\n",
    "        reader_scores_auc.append(roc_auc_score(y_true[indices], y_preds[r][indices]))\n",
    "        \n",
    "        TN, FP, FN, TP = confusion_matrix(y_true[indices],y_preds[r][indices]).ravel()\n",
    "        reader_scores_sense.append( TP / (TP + FN))\n",
    "        reader_scores_spec.append( TN / (TN + FP))\n",
    "        \n",
    "    scores_auc.append(np.mean(reader_scores_auc))\n",
    "    scores_sense.append(np.mean(reader_scores_sense))\n",
    "    scores_spec.append(np.mean(reader_scores_spec))\n",
    "\n",
    "sorted_auc = np.array(sorted(scores_auc))\n",
    "sorted_sense = np.array(sorted(scores_sense))\n",
    "sorted_spec = np.array(sorted(scores_spec))\n",
    "\n",
    "print(len(sorted_auc))\n",
    "alpha = (1.0 - 0.95) / 2.0\n",
    "ci_lower_auc = sorted_auc[int(round(alpha * len(sorted_auc)))]\n",
    "ci_upper_auc = sorted_auc[int(round((1.0 - alpha) * len(sorted_auc)))]\n",
    "\n",
    "ci_lower_sense = sorted_sense[int(round(alpha * len(sorted_sense)))]\n",
    "ci_upper_sense = sorted_sense[int(round((1.0 - alpha) * len(sorted_sense)))]\n",
    "\n",
    "ci_lower_spec = sorted_spec[int(round(alpha * len(sorted_spec)))]\n",
    "ci_upper_spec = sorted_spec[int(round((1.0 - alpha) * len(sorted_spec)))]\n"
   ]
  },
  {
   "cell_type": "code",
   "execution_count": 12,
   "metadata": {},
   "outputs": [
    {
     "name": "stdout",
     "output_type": "stream",
     "text": [
      "nnunet_to_2d auc :  0.927\n",
      "95% ci [ 0.879 -- 0.964 ]\n",
      "\n",
      "nnunet_to_2d sensitivity :  0.869\n",
      "95% ci [ 0.772 -- 0.944 ]\n",
      "\n",
      "nnunet_to_2d specificity :  0.985\n",
      "95% ci [ 0.974 -- 0.996 ]\n",
      "\n"
     ]
    }
   ],
   "source": [
    "print(ai_col ,'auc : ', round(sklearn_auc,3) )\n",
    "print( '95% ci [',round(ci_lower_auc,3) , '--',  round(ci_upper_auc,3),']\\n')\n",
    "\n",
    "print(ai_col ,'sensitivity : ', round(sklearn_sensitivity1,3))\n",
    "print( '95% ci [',round(ci_lower_sense,3) , '--',   round(ci_upper_sense,3),']\\n')\n",
    "\n",
    "print(ai_col ,'specificity : ', round(sklearn_specificity1,3) )\n",
    "print( '95% ci [',round(ci_lower_spec,3) ,   '--', round(ci_upper_spec,3),']\\n')"
   ]
  },
  {
   "cell_type": "code",
   "execution_count": null,
   "metadata": {},
   "outputs": [],
   "source": []
  }
 ],
 "metadata": {
  "kernelspec": {
   "display_name": "Python [conda env:liverfat]",
   "language": "python",
   "name": "conda-env-liverfat-py"
  },
  "language_info": {
   "codemirror_mode": {
    "name": "ipython",
    "version": 3
   },
   "file_extension": ".py",
   "mimetype": "text/x-python",
   "name": "python",
   "nbconvert_exporter": "python",
   "pygments_lexer": "ipython3",
   "version": "3.8.5"
  }
 },
 "nbformat": 4,
 "nbformat_minor": 4
}
