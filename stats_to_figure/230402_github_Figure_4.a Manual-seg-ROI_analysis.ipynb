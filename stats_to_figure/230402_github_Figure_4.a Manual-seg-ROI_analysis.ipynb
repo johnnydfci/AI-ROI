{
 "cells": [
  {
   "cell_type": "markdown",
   "metadata": {},
   "source": [
    "## Concordances of DL-parenchymal vs. ground-truth attenuation. \n",
    "\n",
    "Figure 4. Concordances of DL-parenchymal vs. ground-truth attenuation. DL-parenchymal attenuation was compared to ground-truth attenuations on partitioned datasets (development set: n=399, internal test set: n=80, external test set: n=535). The scatter plot shows the p value, slope, and Spearman correlation coefficient. The agreement was further assessed using Bland-Altman analysis, with liver attenuations in Hounsfield units (HU) on the x-axis. The bold line represents the actual mean difference (error), and the other two dotted lines show 95% limits of agreements.  \n",
    "\n",
    "This script derives the concordance of DL-parenchymal attenuation on the development data: 4.a"
   ]
  },
  {
   "cell_type": "code",
   "execution_count": 1,
   "metadata": {
    "scrolled": true
   },
   "outputs": [
    {
     "name": "stdout",
     "output_type": "stream",
     "text": [
      "(399, 7)\n"
     ]
    },
    {
     "data": {
      "text/html": [
       "<div>\n",
       "<style scoped>\n",
       "    .dataframe tbody tr th:only-of-type {\n",
       "        vertical-align: middle;\n",
       "    }\n",
       "\n",
       "    .dataframe tbody tr th {\n",
       "        vertical-align: top;\n",
       "    }\n",
       "\n",
       "    .dataframe thead th {\n",
       "        text-align: right;\n",
       "    }\n",
       "</style>\n",
       "<table border=\"1\" class=\"dataframe\">\n",
       "  <thead>\n",
       "    <tr style=\"text-align: right;\">\n",
       "      <th></th>\n",
       "      <th>Partition</th>\n",
       "      <th>data_set</th>\n",
       "      <th>CT_id</th>\n",
       "      <th>manual_select_roi</th>\n",
       "      <th>manual_seg_roi</th>\n",
       "      <th>manual_seg_3d</th>\n",
       "      <th>manual_seg_2d</th>\n",
       "    </tr>\n",
       "  </thead>\n",
       "  <tbody>\n",
       "    <tr>\n",
       "      <th>100</th>\n",
       "      <td>Development</td>\n",
       "      <td>LIDC_IDRI</td>\n",
       "      <td>LIDC_IDRI_0002</td>\n",
       "      <td>69.21087</td>\n",
       "      <td>70.62760</td>\n",
       "      <td>67.83089</td>\n",
       "      <td>68.75900</td>\n",
       "    </tr>\n",
       "    <tr>\n",
       "      <th>101</th>\n",
       "      <td>Development</td>\n",
       "      <td>LIDC_IDRI</td>\n",
       "      <td>LIDC_IDRI_0009</td>\n",
       "      <td>61.29716</td>\n",
       "      <td>62.03824</td>\n",
       "      <td>59.81286</td>\n",
       "      <td>61.57231</td>\n",
       "    </tr>\n",
       "    <tr>\n",
       "      <th>102</th>\n",
       "      <td>Development</td>\n",
       "      <td>LIDC_IDRI</td>\n",
       "      <td>LIDC_IDRI_0015</td>\n",
       "      <td>71.16145</td>\n",
       "      <td>69.05653</td>\n",
       "      <td>65.94634</td>\n",
       "      <td>66.63735</td>\n",
       "    </tr>\n",
       "    <tr>\n",
       "      <th>103</th>\n",
       "      <td>Development</td>\n",
       "      <td>LIDC_IDRI</td>\n",
       "      <td>LIDC_IDRI_0016</td>\n",
       "      <td>64.89676</td>\n",
       "      <td>63.38155</td>\n",
       "      <td>61.59932</td>\n",
       "      <td>59.15254</td>\n",
       "    </tr>\n",
       "    <tr>\n",
       "      <th>104</th>\n",
       "      <td>Development</td>\n",
       "      <td>LIDC_IDRI</td>\n",
       "      <td>LIDC_IDRI_0017</td>\n",
       "      <td>53.58578</td>\n",
       "      <td>51.23857</td>\n",
       "      <td>52.04661</td>\n",
       "      <td>52.83353</td>\n",
       "    </tr>\n",
       "  </tbody>\n",
       "</table>\n",
       "</div>"
      ],
      "text/plain": [
       "       Partition   data_set           CT_id  manual_select_roi  \\\n",
       "100  Development  LIDC_IDRI  LIDC_IDRI_0002           69.21087   \n",
       "101  Development  LIDC_IDRI  LIDC_IDRI_0009           61.29716   \n",
       "102  Development  LIDC_IDRI  LIDC_IDRI_0015           71.16145   \n",
       "103  Development  LIDC_IDRI  LIDC_IDRI_0016           64.89676   \n",
       "104  Development  LIDC_IDRI  LIDC_IDRI_0017           53.58578   \n",
       "\n",
       "     manual_seg_roi  manual_seg_3d  manual_seg_2d  \n",
       "100        70.62760       67.83089       68.75900  \n",
       "101        62.03824       59.81286       61.57231  \n",
       "102        69.05653       65.94634       66.63735  \n",
       "103        63.38155       61.59932       59.15254  \n",
       "104        51.23857       52.04661       52.83353  "
      ]
     },
     "execution_count": 1,
     "metadata": {},
     "output_type": "execute_result"
    }
   ],
   "source": [
    "import pandas as pd\n",
    "\n",
    "csv_dir = '/mnt/hgfs/VM_share/liver_project/csv_to_github/'\n",
    "csv_path = 'Liver_attenuation_ROI_vs_seg_all_manual_n_1014.csv'\n",
    "df_init = pd.read_csv(csv_dir + csv_path)\n",
    "df_init = df_init[df_init['Partition'] == 'Development']\n",
    "print(df_init.shape)\n",
    "df_init.head()"
   ]
  },
  {
   "cell_type": "code",
   "execution_count": 2,
   "metadata": {
    "scrolled": true
   },
   "outputs": [
    {
     "name": "stdout",
     "output_type": "stream",
     "text": [
      "LIDC_IDRI (399, 7)\n",
      "19 399 hepatic steatosis : % 4.761904761904762\n",
      "np.mean 60.7 np.std 10.36 \n",
      "\n",
      "\n"
     ]
    }
   ],
   "source": [
    "import numpy as np\n",
    "from scipy import stats\n",
    "\n",
    "data_set_list = list(set(df_init['data_set']))\n",
    "\n",
    "for set_str in data_set_list:\n",
    "    df_sub = df_init[df_init['data_set']==set_str]\n",
    "    print(set_str, df_sub.shape)\n",
    "    \n",
    "    density_gd = df_sub['manual_select_roi']\n",
    "    hs_gd = density_gd[density_gd <40]\n",
    "    print(len(hs_gd) , len(density_gd), 'hepatic steatosis : %',len(hs_gd) / len(density_gd) * 100)\n",
    "    \n",
    "    mean = round(np.mean(density_gd),2)\n",
    "    std = round(np.std(density_gd),2)\n",
    "    \n",
    "    \n",
    "    print('np.mean',mean, 'np.std',std,'\\n\\n')\n"
   ]
  },
  {
   "cell_type": "code",
   "execution_count": 3,
   "metadata": {},
   "outputs": [
    {
     "name": "stdout",
     "output_type": "stream",
     "text": [
      "Groudnd-truth attenuation : manual_select_roi len: 399\n",
      "manual_select_roi np.mean 60.7 np.std 10.36 \n",
      "\n",
      "\n",
      "Liver attenuation of  manual_seg_roi len: 399\n",
      "np.mean 60.39 np.std 10.56 mse 2.328\n",
      "spearman correlation SpearmanrResult(correlation=0.9238946397101975, pvalue=1.0171236498224576e-167)\n",
      "Liver attenuation of { manual_seg_roi manual_select_roi }------ks_p_value 0.5217787458230605  NS NS NS \n",
      "\n",
      "\n",
      "\n",
      "Liver attenuation of  manual_seg_3d len: 399\n",
      "np.mean 58.77 np.std 9.83 mse 2.563\n",
      "spearman correlation SpearmanrResult(correlation=0.9455068026467209, pvalue=1.4568806449122409e-195)\n",
      "Liver attenuation of { manual_seg_3d manual_select_roi }-----ks_p_value 3.498380966173105e-05  Significant \n",
      "\n",
      "\n",
      "\n",
      "Liver attenuation of  manual_seg_2d len: 399\n",
      "np.mean 59.09 np.std 9.57 mse 2.477\n",
      "spearman correlation SpearmanrResult(correlation=0.9309175446627057, pvalue=9.371178255247018e-176)\n",
      "Liver attenuation of { manual_seg_2d manual_select_roi }-----ks_p_value 0.00031840265206982795  Significant \n",
      "\n",
      "\n",
      "\n"
     ]
    }
   ],
   "source": [
    "\n",
    "density_col = ['manual_select_roi','manual_seg_roi', 'manual_seg_3d','manual_seg_2d' ] \n",
    "density_gd = df_init[density_col[0]]\n",
    "\n",
    "mean = round(np.mean(density_gd),2)\n",
    "print('Groudnd-truth attenuation :', density_col[0], 'len:',len(density_gd))\n",
    "std = round(np.std(density_gd),2)\n",
    "print(density_col[0],'np.mean',mean, 'np.std',std,'\\n\\n')\n",
    "\n",
    "for i in range(1,4):\n",
    "    density_compare = df_init[density_col[i]]\n",
    "    print('Liver attenuation of ', density_col[i], 'len:',len(density_compare))\n",
    "    mean = round(np.mean(density_compare),2)\n",
    "    std = round(np.std(density_compare),2)\n",
    "    mse = np.sum(abs(density_compare - density_gd)) / len(density_compare)\n",
    "    print('np.mean',mean, 'np.std',std, 'mse',round(mse,3))\n",
    "    \n",
    "    sp_cor = stats.spearmanr(density_compare,density_gd)\n",
    "    print('spearman correlation', sp_cor)\n",
    "\n",
    "    ks_s, ks_p = stats.ks_2samp(density_compare,density_gd)\n",
    "    if ks_p >0.05:\n",
    "        print('Liver attenuation of {',density_col[i], density_col[0], '}------ks_p_value',ks_p,' NS NS NS ')\n",
    "    if ks_p <=0.05:\n",
    "        print('Liver attenuation of {',density_col[i], density_col[0], '}-----ks_p_value',ks_p,' Significant ')\n",
    "        \n",
    "    print('\\n\\n')"
   ]
  },
  {
   "cell_type": "code",
   "execution_count": 4,
   "metadata": {},
   "outputs": [
    {
     "name": "stdout",
     "output_type": "stream",
     "text": [
      "len x 399 len y 399\n",
      "slope w： [[0.96905845]]\n",
      "interception b： [1.55931325]\n"
     ]
    }
   ],
   "source": [
    "from sklearn import linear_model\n",
    "\n",
    "col = ['manual_select_roi','manual_seg_roi', 'manual_seg_3d','manual_seg_2d' ] \n",
    "\n",
    "density_gd = df_init[col[0]]\n",
    "density_seg_roi = df_init[col[1]]\n",
    "\n",
    "model = linear_model.LinearRegression()\n",
    "x_new = np.array(density_gd).reshape(-1, 1)\n",
    "y_new = np.array(density_seg_roi).reshape(-1, 1)\n",
    "\n",
    "model.fit(x_new, y_new )\n",
    "\n",
    "print('len x', len(x_new), 'len y', len(y_new))\n",
    "print(\"slope w：\", model.coef_)\n",
    "print(\"interception b：\", model.intercept_)"
   ]
  },
  {
   "cell_type": "code",
   "execution_count": 5,
   "metadata": {},
   "outputs": [
    {
     "data": {
      "text/plain": [
       "<Figure size 720x720 with 0 Axes>"
      ]
     },
     "metadata": {},
     "output_type": "display_data"
    },
    {
     "data": {
      "image/png": "[encoded data removed]",
      "text/plain": [
       "<Figure size 432x432 with 3 Axes>"
      ]
     },
     "metadata": {},
     "output_type": "display_data"
    }
   ],
   "source": [
    "import seaborn as sns\n",
    "import matplotlib.pyplot as plt\n",
    "\n",
    "sns.set(rc={\"figure.figsize\":(10, 10)}) \n",
    "sns.set_style(\"ticks\")\n",
    "\n",
    "sns.despine()\n",
    "\n",
    "min_lim, max_lim = -20, 100\n",
    "\n",
    "ax = sns.jointplot(data=df_init, x=col[0], y=col[1] , color = '#1d74c0ff',\n",
    "              marginal_kws = dict(bins= 20), space = 0.1,ratio = 8\n",
    "              , xlim=[min_lim, max_lim], ylim=[min_lim, max_lim]\n",
    "              , kind = 'reg'\n",
    "              , scatter_kws={'s': 15}\n",
    "             )\n",
    "ax.fig.set_size_inches(6,6)\n",
    "plt.savefig( 'png/joint_plot_' + col[0] + '_' +col[1] +'.png', dpi = 500)\n"
   ]
  },
  {
   "cell_type": "code",
   "execution_count": 6,
   "metadata": {},
   "outputs": [
    {
     "name": "stdout",
     "output_type": "stream",
     "text": [
      "Std of difference  3.2962382692036996\n",
      "1.96std of abs difference  6.460627007639251\n",
      "Mean of  difference -0.3189717794486212\n",
      "Mean +1.96std 6.141655228190629\n",
      "Mean -1.96std -6.779598787087872\n",
      "Len(outliers) 21 Len of all test images 399  = % 5.263157894736842\n"
     ]
    }
   ],
   "source": [
    "[colgd, colai ]  = ['manual_select_roi','manual_seg_roi']\n",
    "\n",
    "x_ax = np.array(df_init[colgd])\n",
    "y_ax = (np.array(df_init[colai]) - np.array(df_init[colgd])) \n",
    "\n",
    "std196 = 1.96*np.std((y_ax))\n",
    "print('Std of difference ',np.std((y_ax)))\n",
    "print('1.96std of abs difference ',std196)\n",
    "\n",
    "mean_dif = np.mean((y_ax))\n",
    "print('Mean of  difference', mean_dif)\n",
    "print('Mean +1.96std', mean_dif+ std196)\n",
    "print('Mean -1.96std', mean_dif- std196)\n",
    "\n",
    "outliers = []\n",
    "for y_value in y_ax:\n",
    "    if y_value < mean_dif- std196 or y_value > mean_dif + std196:\n",
    "        outliers.append(y_value)\n",
    "print('Len(outliers)',len(outliers), 'Len of all test images',len(y_ax),' = %', len(outliers)/ len(y_ax) *100)"
   ]
  },
  {
   "cell_type": "code",
   "execution_count": 7,
   "metadata": {},
   "outputs": [
    {
     "data": {
      "image/png": "[encoded data removed]",
      "text/plain": [
       "<Figure size 432x432 with 1 Axes>"
      ]
     },
     "metadata": {
      "needs_background": "light"
     },
     "output_type": "display_data"
    }
   ],
   "source": [
    "import matplotlib.pyplot as plt\n",
    "%matplotlib inline\n",
    "\n",
    "fig, ax = plt.subplots(1, 1, figsize=(6, 6))\n",
    "\n",
    "min_x, max_x = -20, 100\n",
    "min_y, max_y = -20,20\n",
    "\n",
    "ax.plot(x_ax, y_ax, '.', markersize= 10, color='#1878d3ff', alpha = 0.6       )\n",
    "\n",
    "ax.plot([min_x, max_x], [mean_dif, mean_dif], '--', color='black', linewidth=1.5)\n",
    "ax.plot([min_x, max_x], [mean_dif+ std196, mean_dif +  std196], '--', color='black', linewidth=1)\n",
    "ax.plot([min_x, max_x], [mean_dif - std196, mean_dif -  std196], '--', color='black', linewidth= 1)\n",
    "\n",
    "ax.set_xlim(min_x, max_x)\n",
    "ax.set_ylim(min_y, max_y)\n",
    "\n",
    "ax.tick_params(axis='x', which='both', bottom=False, labelbottom=True, labelsize=14)\n",
    "ax.tick_params(axis='y', which='both', left=False, labelleft=True, labelsize=14)\n",
    "\n",
    "plt.savefig( 'png/Mean_dif_' + colgd +'.png', dpi = 500)\n"
   ]
  },
  {
   "cell_type": "code",
   "execution_count": null,
   "metadata": {},
   "outputs": [],
   "source": []
  },
  {
   "cell_type": "code",
   "execution_count": null,
   "metadata": {},
   "outputs": [],
   "source": []
  }
 ],
 "metadata": {
  "kernelspec": {
   "display_name": "Python [conda env:liverfat] *",
   "language": "python",
   "name": "conda-env-liverfat-py"
  },
  "language_info": {
   "codemirror_mode": {
    "name": "ipython",
    "version": 3
   },
   "file_extension": ".py",
   "mimetype": "text/x-python",
   "name": "python",
   "nbconvert_exporter": "python",
   "pygments_lexer": "ipython3",
   "version": "3.8.5"
  }
 },
 "nbformat": 4,
 "nbformat_minor": 4
}
