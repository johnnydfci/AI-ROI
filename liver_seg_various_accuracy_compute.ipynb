{
 "cells": [
  {
   "cell_type": "code",
   "execution_count": 3,
   "id": "7f10912a",
   "metadata": {},
   "outputs": [],
   "source": [
    "import os, glob, random\n",
    "from medpy.metric import binary\n",
    "import pandas as pd\n",
    "import SimpleITK as sitk\n",
    "import numpy as np\n",
    "from tests.liver_seg_to_roi import get_image_path_by_id"
   ]
  },
  {
   "cell_type": "code",
   "execution_count": 7,
   "id": "9347df4f",
   "metadata": {
    "scrolled": true
   },
   "outputs": [
    {
     "name": "stdout",
     "output_type": "stream",
     "text": [
      "0 LIDC-IDRI_0002\n",
      "1 LIDC-IDRI_0002 mapped  nnUNet_raw_data_base/nnUNet_test_data/test_seg_in_nii/LIDC-IDRI_0002_img_nnunet_to_seg_top1mask.nii.gz yeah!!!!!!!!!\n",
      "\n",
      "0 th pid: LIDC-IDRI_0002 dsc 0.81808 done into\n",
      " csv/seg_metrics_test.csv  \n",
      "\n",
      "\n",
      "\n"
     ]
    }
   ],
   "source": [
    "manual_seg_dir =  'nnUNet_raw_data_base/nnUNet_test_data/test_label_in_nii/'\n",
    "auto_seg_dir =  'nnUNet_raw_data_base/nnUNet_test_data/test_seg_in_nii/'\n",
    "csv_write_path= 'csv/seg_metrics_test.csv'\n",
    "\n",
    "vox_spacing = [2.5,0.7,0.7]     \n",
    "df_init = pd.DataFrame()\n",
    "\n",
    "label_paths = []\n",
    "for r, d, f in os.walk(manual_seg_dir):\n",
    "    for file in f:\n",
    "        if '.nii.gz' in file :\n",
    "                label_path = os.path.join(r, file)\n",
    "                label_paths.append(label_path)\n",
    "i=0                \n",
    "for idx,label_path in enumerate(label_paths):\n",
    "    d= label_path.split('/')[-1]\n",
    "    pid = d.replace('_3d_liver_seg.nii.gz','')\n",
    "    \n",
    "    auto_seg_path = get_image_path_by_id(pid, auto_seg_dir)\n",
    "    manual_seg_path = label_path\n",
    "    if os.path.exists(auto_seg_path) and os.path.exists(manual_seg_path) :\n",
    "        i=i+1\n",
    "        print(i, pid, 'mapped ',auto_seg_path, 'yeah!!!!!!!!!\\n')\n",
    "        manual_seg_sitk = sitk.ReadImage(manual_seg_path)\n",
    "        mskCube  = sitk.GetArrayFromImage(manual_seg_sitk)\n",
    "        auto_seg_sitk = sitk.ReadImage(auto_seg_path)\n",
    "        prdCube = sitk.GetArrayFromImage(auto_seg_sitk)\n",
    "\n",
    "        dice_score = binary.dc(prdCube,mskCube)\n",
    "        jc = binary.jc(prdCube,mskCube) \n",
    "        hd = binary.hd(prdCube,mskCube,vox_spacing, 1)\n",
    "        assd = binary.assd(prdCube,mskCube,vox_spacing, 1)\n",
    "\n",
    "        df = pd.DataFrame({'CT_id': pid           \n",
    "                           ,  'dice_score':round(dice_score,5)\n",
    "                           ,   'assd':round(assd,5)\n",
    "                           ,    'jaccard':round(jc,5)\n",
    "                           ,  'hausdorff':round(hd,5)            \n",
    "                          },index=[0])\n",
    "        df_init = df_init.append(df)\n",
    "        df_init.to_csv(csv_write_path )\n",
    "        print(idx,'th pid:',pid,'dsc',round(dice_score,5) ,'done into\\n',csv_write_path,' \\n\\n\\n')\n"
   ]
  },
  {
   "cell_type": "code",
   "execution_count": 8,
   "id": "848f0a2e",
   "metadata": {},
   "outputs": [
    {
     "name": "stdout",
     "output_type": "stream",
     "text": [
      "(1, 5)\n"
     ]
    },
    {
     "data": {
      "text/html": [
       "<div>\n",
       "<style scoped>\n",
       "    .dataframe tbody tr th:only-of-type {\n",
       "        vertical-align: middle;\n",
       "    }\n",
       "\n",
       "    .dataframe tbody tr th {\n",
       "        vertical-align: top;\n",
       "    }\n",
       "\n",
       "    .dataframe thead th {\n",
       "        text-align: right;\n",
       "    }\n",
       "</style>\n",
       "<table border=\"1\" class=\"dataframe\">\n",
       "  <thead>\n",
       "    <tr style=\"text-align: right;\">\n",
       "      <th></th>\n",
       "      <th>CT_id</th>\n",
       "      <th>dice_score</th>\n",
       "      <th>assd</th>\n",
       "      <th>jaccard</th>\n",
       "      <th>hausdorff</th>\n",
       "    </tr>\n",
       "  </thead>\n",
       "  <tbody>\n",
       "    <tr>\n",
       "      <th>0</th>\n",
       "      <td>LIDC-IDRI_0002</td>\n",
       "      <td>0.81808</td>\n",
       "      <td>10.5661</td>\n",
       "      <td>0.69217</td>\n",
       "      <td>119.07918</td>\n",
       "    </tr>\n",
       "  </tbody>\n",
       "</table>\n",
       "</div>"
      ],
      "text/plain": [
       "            CT_id  dice_score     assd  jaccard  hausdorff\n",
       "0  LIDC-IDRI_0002     0.81808  10.5661  0.69217  119.07918"
      ]
     },
     "execution_count": 8,
     "metadata": {},
     "output_type": "execute_result"
    }
   ],
   "source": [
    "print(df_init.shape)\n",
    "df_init.head()"
   ]
  },
  {
   "cell_type": "code",
   "execution_count": 9,
   "id": "374fc107",
   "metadata": {},
   "outputs": [
    {
     "data": {
      "text/plain": [
       "(array([0., 0., 0., 0., 0., 0., 0., 0., 0., 0., 0., 0., 1., 0., 0., 0., 0.,\n",
       "        0., 0., 0., 0., 0., 0., 0., 0.]),\n",
       " array([0.31808, 0.35808, 0.39808, 0.43808, 0.47808, 0.51808, 0.55808,\n",
       "        0.59808, 0.63808, 0.67808, 0.71808, 0.75808, 0.79808, 0.83808,\n",
       "        0.87808, 0.91808, 0.95808, 0.99808, 1.03808, 1.07808, 1.11808,\n",
       "        1.15808, 1.19808, 1.23808, 1.27808, 1.31808]),\n",
       " <BarContainer object of 25 artists>)"
      ]
     },
     "execution_count": 9,
     "metadata": {},
     "output_type": "execute_result"
    },
    {
     "data": {
      "image/png": "[encoded data removed]",
      "text/plain": [
       "<Figure size 640x480 with 1 Axes>"
      ]
     },
     "metadata": {},
     "output_type": "display_data"
    }
   ],
   "source": [
    "import matplotlib.pyplot as plt\n",
    "plt.hist( df_init['dice_score'],bins = 25)\n",
    "# plt.imshow"
   ]
  },
  {
   "cell_type": "code",
   "execution_count": 10,
   "id": "007ac749",
   "metadata": {},
   "outputs": [
    {
     "name": "stdout",
     "output_type": "stream",
     "text": [
      "0.81808 0.0 (1,)\n"
     ]
    }
   ],
   "source": [
    "print(np.mean(df_init['dice_score']), np.std(df_init['dice_score']),df_init['dice_score'].shape)"
   ]
  },
  {
   "cell_type": "code",
   "execution_count": null,
   "id": "c6bbea0b",
   "metadata": {},
   "outputs": [],
   "source": []
  },
  {
   "cell_type": "code",
   "execution_count": null,
   "id": "5cbac7f0",
   "metadata": {},
   "outputs": [],
   "source": []
  }
 ],
 "metadata": {
  "kernelspec": {
   "display_name": "Python [conda env:monai09] *",
   "language": "python",
   "name": "conda-env-monai09-py"
  },
  "language_info": {
   "codemirror_mode": {
    "name": "ipython",
    "version": 3
   },
   "file_extension": ".py",
   "mimetype": "text/x-python",
   "name": "python",
   "nbconvert_exporter": "python",
   "pygments_lexer": "ipython3",
   "version": "3.8.5"
  }
 },
 "nbformat": 4,
 "nbformat_minor": 5
}
