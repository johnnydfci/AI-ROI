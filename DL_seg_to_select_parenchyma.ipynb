{
 "cells": [
  {
   "cell_type": "code",
   "execution_count": 1,
   "metadata": {},
   "outputs": [],
   "source": [
    "import os\n",
    "import SimpleITK as sitk\n",
    "import numpy as np\n",
    "import pandas as pd\n",
    "from tests.liver_seg_to_roi import \\\n",
    "    get_roi_array_from_seg_volume, save_array_to_nii, get_image_path_by_id"
   ]
  },
  {
   "cell_type": "code",
   "execution_count": 2,
   "metadata": {
    "scrolled": true
   },
   "outputs": [
    {
     "name": "stdout",
     "output_type": "stream",
     "text": [
      "slice_list [13, 15, 17]\n",
      "nnUNet_raw_data_base/nnUNet_seg_to_AI-ROI/roi_in_nii/LIDC-IDRI_0002_AI_ROI_seg.nii.gz saved\n",
      "0 nnUNet_raw_data_base/nnUNet_test_data/test_img_in_nii/LIDC-IDRI_0002_img_nnunet_to_seg_0000.nii.gz \n",
      " nnUNet_raw_data_base/nnUNet_seg_to_AI-ROI/roi_in_nii/LIDC-IDRI_0002_AI_ROI_seg.nii.gz \n",
      "\n",
      "LIDC-IDRI_0002 nnUNet_raw_data_base/nnUNet_test_data/test_seg_in_nii/LIDC-IDRI_0002_img_nnunet_to_seg_top1mask.nii.gz \n",
      " nnUNet_raw_data_base/nnUNet_seg_to_AI-ROI/roi_in_nii/LIDC-IDRI_0002_AI_ROI_seg.nii.gz \n",
      "\n",
      " nnUNet_raw_data_base/nnUNet_test_data/test_img_in_nii/LIDC-IDRI_0002_img_nnunet_to_seg_0000.nii.gz \n",
      "\n",
      "\n",
      "\n",
      "\n"
     ]
    }
   ],
   "source": [
    "df_init = pd.DataFrame()\n",
    "\n",
    "img_dir =  'nnUNet_raw_data_base/nnUNet_test_data/test_img_in_nii/'\n",
    "seg_dir =  'nnUNet_raw_data_base/nnUNet_test_data/test_seg_in_nii/'\n",
    "targ_dir = 'nnUNet_raw_data_base/nnUNet_seg_to_AI-ROI/roi_in_nii/'\n",
    "\n",
    "csv_write_path = 'csv/AI_ROI_attenuation_using_AI_seg.csv'\n",
    "\n",
    "label_paths = []\n",
    "for r, d, f in os.walk(seg_dir):\n",
    "    for file in f:\n",
    "        if '.nii.gz' in file :\n",
    "            label_paths.append(os.path.join(r, file))\n",
    "#             print(label_path)\n",
    "            \n",
    "for idx, label_path in enumerate(sorted(label_paths)):\n",
    "    \n",
    "    d = label_path.split('/')[-1]             \n",
    "    pid = d[:14]\n",
    "    seg_path = label_path\n",
    "    img_path = get_image_path_by_id(pid, img_dir)\n",
    "    roi_path = targ_dir + pid + '_AI_ROI_seg.nii.gz'\n",
    "    \n",
    "    ct_sitk = sitk.ReadImage(img_path)\n",
    "    ct_array =  sitk.GetArrayFromImage(ct_sitk)\n",
    "    \n",
    "    seg_sitk = sitk.ReadImage(seg_path)\n",
    "    seg_array =  sitk.GetArrayFromImage(seg_sitk)    \n",
    "\n",
    "    liver_seged = np.multiply((seg_array>0)*1.0,ct_array)\n",
    "    density_3d =  np.sum(liver_seged)/ np.sum(seg_array >0)\n",
    "            \n",
    "    roi_array = get_roi_array_from_seg_volume(seg_path, roi_path)\n",
    "    roi_of_liver = np.multiply((roi_array>0)*1.0,ct_array)\n",
    "    density_roi =  np.sum(roi_of_liver)/ np.sum(roi_array >0)    \n",
    "\n",
    "    save_array_to_nii(roi_array, seg_path, roi_path)\n",
    "    print(idx, img_path, '\\n', roi_path, '\\n')\n",
    "    \n",
    "    df = pd.DataFrame({'CT_id': pid,    '3D_attenuation_using_seg':round(density_3d,5),                   \n",
    "                'ROI_attenuation_using_seg':round(density_roi,5)},index=[0])   \n",
    "    df_init = df_init.append(df)\n",
    "    df_init.to_csv( csv_write_path )\n",
    "    print(pid, seg_path,'\\n',  roi_path,'\\n\\n',  img_path, '\\n\\n\\n\\n') \n"
   ]
  },
  {
   "cell_type": "code",
   "execution_count": 3,
   "metadata": {
    "scrolled": true
   },
   "outputs": [
    {
     "name": "stdout",
     "output_type": "stream",
     "text": [
      "LIDC-IDRI_0002_AI_ROI_seg.nii.gz LIDC-IDRI_0002\n",
      "1 LIDC-IDRI_0002 LIDC-IDRI_0002_img_nnunet_to_seg_0000.nii.gz LIDC-IDRI_0002_AI_ROI_seg.nii.gz\n",
      "im_array.shape[0] 130 auto_seg_array.shape[0] 130\n",
      "roi_slice_list [13, 15, 17]\n",
      "1 LIDC-IDRI_0002  done \n",
      "\n",
      "\n",
      "\n",
      "\n",
      "\n"
     ]
    }
   ],
   "source": [
    "import os, glob\n",
    "from tests.jpack_generate_roi import seg_in_roi_by_screenshots\n",
    "\n",
    "img_dir =  'nnUNet_raw_data_base/nnUNet_test_data/test_img_in_nii/'\n",
    "roi_dir =  'nnUNet_raw_data_base/nnUNet_seg_to_AI-ROI/roi_in_nii/'\n",
    "screenshots_dir = 'nnUNet_raw_data_base/nnUNet_seg_to_AI-ROI/roi_in_png/'\n",
    "\n",
    "for idx,d in enumerate(sorted(os.listdir(roi_dir))): \n",
    "    if '.nii.gz' in d:           \n",
    "        indices = [i for i, c in enumerate(d) if c == '_']\n",
    "        patient_id = d[:indices[1]]\n",
    "        print(d, patient_id)\n",
    "        \n",
    "        ct_image_path = glob.glob(os.path.join(img_dir, '*'+patient_id +'*'))[0]\n",
    "        roi_path =glob.glob(os.path.join(roi_dir, '*'+patient_id +'*'))[0]\n",
    "        print(idx+1,patient_id, ct_image_path.split('/')[-1], roi_path.split('/')[-1])   \n",
    "        seg_in_roi_by_screenshots(ct_image_path,roi_path,screenshots_dir,patient_id )\n",
    "        print(idx+1,patient_id,' done \\n\\n\\n\\n\\n')"
   ]
  },
  {
   "cell_type": "code",
   "execution_count": null,
   "metadata": {},
   "outputs": [],
   "source": []
  }
 ],
 "metadata": {
  "kernelspec": {
   "display_name": "Python [conda env:liverfat]",
   "language": "python",
   "name": "conda-env-liverfat-py"
  },
  "language_info": {
   "codemirror_mode": {
    "name": "ipython",
    "version": 3
   },
   "file_extension": ".py",
   "mimetype": "text/x-python",
   "name": "python",
   "nbconvert_exporter": "python",
   "pygments_lexer": "ipython3",
   "version": "3.8.5"
  }
 },
 "nbformat": 4,
 "nbformat_minor": 4
}
