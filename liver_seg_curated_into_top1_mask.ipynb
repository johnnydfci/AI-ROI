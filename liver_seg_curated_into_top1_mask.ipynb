{
 "cells": [
  {
   "cell_type": "code",
   "execution_count": 1,
   "metadata": {
    "scrolled": true
   },
   "outputs": [
    {
     "name": "stdout",
     "output_type": "stream",
     "text": [
      "1\n"
     ]
    }
   ],
   "source": [
    "import os\n",
    "data_dir = 'nnUNet_raw_data_base/nnUNet_test_data/test_seg_in_nii_raw/'\n",
    "image_paths = []\n",
    "for r, d, f in os.walk(data_dir):\n",
    "    for file in f:\n",
    "        if '.nii.gz' in file :\n",
    "                img_path = os.path.join(r, file)\n",
    "                image_paths.append(img_path)\n",
    "\n",
    "image_paths = sorted(image_paths)\n",
    "print(len(image_paths))"
   ]
  },
  {
   "cell_type": "code",
   "execution_count": 2,
   "metadata": {
    "scrolled": true
   },
   "outputs": [
    {
     "name": "stdout",
     "output_type": "stream",
     "text": [
      "0 nnUNet_raw_data_base/nnUNet_test_data/test_seg_in_nii_raw/LIDC-IDRI_0002_img_nnunet_to_seg.nii.gz\n",
      "0 th curated and saved nnUNet_raw_data_base/nnUNet_test_data/test_seg_in_nii/LIDC-IDRI_0002_img_nnunet_to_seg_top1mask.nii.gz\n",
      "nnUNet_raw_data_base/nnUNet_test_data/test_seg_in_nii/LIDC-IDRI_0002_img_nnunet_to_seg_top1mask.nii.gz \n",
      "\n",
      "\n",
      "\n"
     ]
    }
   ],
   "source": [
    "import shutil,random\n",
    "import SimpleITK as sitk  \n",
    "from tests.image_postprocessing_test import get_biggst_mask_array\n",
    "from tests.sitk_nifti_tools import get_nifti_from_array_via_interspacing,nifiti_save_into_path\n",
    "\n",
    "inter_spacing = [0.7,0.7,2.5]\n",
    "\n",
    "targ_dir = 'nnUNet_raw_data_base/nnUNet_test_data/test_seg_in_nii/'\n",
    "for idx,img_path in enumerate(image_paths):\n",
    "    print(idx, img_path)\n",
    "    seg_path = img_path\n",
    "    d = img_path.split('/')[-1]\n",
    "    targ_path = targ_dir + d.replace('.nii.gz','_top1mask.nii.gz')\n",
    "    \n",
    "    template_sitk =sitk.ReadImage(seg_path)\n",
    "    seg_array =  sitk.GetArrayFromImage(template_sitk)\n",
    "    seg_array = get_biggst_mask_array(seg_array)\n",
    "\n",
    "    sitk_output = get_nifti_from_array_via_interspacing(seg_array,inter_spacing,template_sitk)\n",
    "    nifiti_save_into_path(sitk_output,targ_path)\n",
    "    print(idx,'th curated and saved',targ_path)    \n",
    "    print(targ_path, '\\n\\n\\n')\n"
   ]
  },
  {
   "cell_type": "code",
   "execution_count": null,
   "metadata": {},
   "outputs": [],
   "source": []
  }
 ],
 "metadata": {
  "kernelspec": {
   "display_name": "Python [conda env:liverfat]",
   "language": "python",
   "name": "conda-env-liverfat-py"
  },
  "language_info": {
   "codemirror_mode": {
    "name": "ipython",
    "version": 3
   },
   "file_extension": ".py",
   "mimetype": "text/x-python",
   "name": "python",
   "nbconvert_exporter": "python",
   "pygments_lexer": "ipython3",
   "version": "3.8.5"
  }
 },
 "nbformat": 4,
 "nbformat_minor": 4
}
