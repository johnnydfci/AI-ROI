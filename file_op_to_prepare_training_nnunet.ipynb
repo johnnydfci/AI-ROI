{
 "cells": [
  {
   "cell_type": "code",
   "execution_count": 5,
   "id": "341f10d7",
   "metadata": {},
   "outputs": [
    {
     "name": "stdout",
     "output_type": "stream",
     "text": [
      "5 5\n",
      "data_download/nnunet_develop/LIDC_IDRI_img_in_nii/LIDC_IDRI_0698_img.nii.gz data_download/nnunet_develop/LIDC_IDRI_label_in_nii/LIDC_IDRI_0698_3d_liver_seg.nii.gz\n"
     ]
    }
   ],
   "source": [
    "import os, glob, random, shutil\n",
    "\n",
    "\n",
    "img_dir_train = '521_data_download/LIDC_IDRI_img_in_nii'\n",
    "seg_dir_train = '521_data_download/LIDC_IDRI_label_in_nii'\n",
    "\n",
    "train_images = sorted(glob.glob(os.path.join(img_dir_train , '*.nii.gz'))) \n",
    "train_labels = sorted(glob.glob(os.path.join(seg_dir_train, '*.nii.gz')))\n",
    "\n",
    "print(len(train_images),len(train_labels))\n",
    "print((train_images[-1]),(train_labels[-1]))\n"
   ]
  },
  {
   "cell_type": "code",
   "execution_count": 8,
   "id": "5b569ce9",
   "metadata": {
    "scrolled": false
   },
   "outputs": [
    {
     "name": "stdout",
     "output_type": "stream",
     "text": [
      "LIDC_IDRI_0294\n",
      "data_download/nnunet_develop/LIDC_IDRI_img_in_nii/LIDC_IDRI_0294_img.nii.gz \n",
      " data_download/nnunet_develop/LIDC_IDRI_label_in_nii/LIDC_IDRI_0294_3d_liver_seg.nii.gz \n",
      "\n",
      "LIDC_IDRI_0487\n",
      "data_download/nnunet_develop/LIDC_IDRI_img_in_nii/LIDC_IDRI_0487_img.nii.gz \n",
      " data_download/nnunet_develop/LIDC_IDRI_label_in_nii/LIDC_IDRI_0487_3d_liver_seg.nii.gz \n",
      "\n",
      "LIDC_IDRI_0593\n",
      "data_download/nnunet_develop/LIDC_IDRI_img_in_nii/LIDC_IDRI_0593_img.nii.gz \n",
      " data_download/nnunet_develop/LIDC_IDRI_label_in_nii/LIDC_IDRI_0593_3d_liver_seg.nii.gz \n",
      "\n",
      "LIDC_IDRI_0688\n",
      "data_download/nnunet_develop/LIDC_IDRI_img_in_nii/LIDC_IDRI_0688_img.nii.gz \n",
      " data_download/nnunet_develop/LIDC_IDRI_label_in_nii/LIDC_IDRI_0688_3d_liver_seg.nii.gz \n",
      "\n",
      "LIDC_IDRI_0698\n",
      "data_download/nnunet_develop/LIDC_IDRI_img_in_nii/LIDC_IDRI_0698_img.nii.gz \n",
      " data_download/nnunet_develop/LIDC_IDRI_label_in_nii/LIDC_IDRI_0698_3d_liver_seg.nii.gz \n",
      "\n"
     ]
    }
   ],
   "source": [
    "import shutil\n",
    "\n",
    "for idx, path in enumerate(train_images):\n",
    "    img_name = path.split('/')[-1]\n",
    "    indices = [i for i, c in enumerate(img_name) if c == '_']\n",
    "    case_id = img_name[:indices[2]]\n",
    "        \n",
    "    print(case_id)\n",
    "    img_path = train_images[idx] \n",
    "    seg_path = train_labels[idx] \n",
    "    print(img_path, '\\n',seg_path,'\\n')"
   ]
  },
  {
   "cell_type": "code",
   "execution_count": 9,
   "id": "fee2a99d",
   "metadata": {
    "scrolled": true
   },
   "outputs": [
    {
     "name": "stdout",
     "output_type": "stream",
     "text": [
      "LIDC_IDRI_0294\n",
      "img_path::: data_download/nnunet_develop/LIDC_IDRI_img_in_nii/LIDC_IDRI_0294_img.nii.gz \n",
      " seg_path::: data_download/nnunet_develop/LIDC_IDRI_label_in_nii/LIDC_IDRI_0294_3d_liver_seg.nii.gz \n",
      "\n",
      "targ_img_path::: nnUNet_raw_data_base/nnUNet_raw_data/Task_521_plain_liver_raw/LIDC_IDRI_0294/imaging.nii.gz \n",
      " targ_seg_path::: nnUNet_raw_data_base/nnUNet_raw_data/Task_521_plain_liver_raw/LIDC_IDRI_0294/segmentation.nii.gz \n",
      "\n",
      "\n",
      "\n",
      "LIDC_IDRI_0487\n",
      "img_path::: data_download/nnunet_develop/LIDC_IDRI_img_in_nii/LIDC_IDRI_0487_img.nii.gz \n",
      " seg_path::: data_download/nnunet_develop/LIDC_IDRI_label_in_nii/LIDC_IDRI_0487_3d_liver_seg.nii.gz \n",
      "\n",
      "targ_img_path::: nnUNet_raw_data_base/nnUNet_raw_data/Task_521_plain_liver_raw/LIDC_IDRI_0487/imaging.nii.gz \n",
      " targ_seg_path::: nnUNet_raw_data_base/nnUNet_raw_data/Task_521_plain_liver_raw/LIDC_IDRI_0487/segmentation.nii.gz \n",
      "\n",
      "\n",
      "\n",
      "LIDC_IDRI_0593\n",
      "img_path::: data_download/nnunet_develop/LIDC_IDRI_img_in_nii/LIDC_IDRI_0593_img.nii.gz \n",
      " seg_path::: data_download/nnunet_develop/LIDC_IDRI_label_in_nii/LIDC_IDRI_0593_3d_liver_seg.nii.gz \n",
      "\n",
      "targ_img_path::: nnUNet_raw_data_base/nnUNet_raw_data/Task_521_plain_liver_raw/LIDC_IDRI_0593/imaging.nii.gz \n",
      " targ_seg_path::: nnUNet_raw_data_base/nnUNet_raw_data/Task_521_plain_liver_raw/LIDC_IDRI_0593/segmentation.nii.gz \n",
      "\n",
      "\n",
      "\n",
      "LIDC_IDRI_0688\n",
      "img_path::: data_download/nnunet_develop/LIDC_IDRI_img_in_nii/LIDC_IDRI_0688_img.nii.gz \n",
      " seg_path::: data_download/nnunet_develop/LIDC_IDRI_label_in_nii/LIDC_IDRI_0688_3d_liver_seg.nii.gz \n",
      "\n",
      "targ_img_path::: nnUNet_raw_data_base/nnUNet_raw_data/Task_521_plain_liver_raw/LIDC_IDRI_0688/imaging.nii.gz \n",
      " targ_seg_path::: nnUNet_raw_data_base/nnUNet_raw_data/Task_521_plain_liver_raw/LIDC_IDRI_0688/segmentation.nii.gz \n",
      "\n",
      "\n",
      "\n",
      "LIDC_IDRI_0698\n",
      "img_path::: data_download/nnunet_develop/LIDC_IDRI_img_in_nii/LIDC_IDRI_0698_img.nii.gz \n",
      " seg_path::: data_download/nnunet_develop/LIDC_IDRI_label_in_nii/LIDC_IDRI_0698_3d_liver_seg.nii.gz \n",
      "\n",
      "targ_img_path::: nnUNet_raw_data_base/nnUNet_raw_data/Task_521_plain_liver_raw/LIDC_IDRI_0698/imaging.nii.gz \n",
      " targ_seg_path::: nnUNet_raw_data_base/nnUNet_raw_data/Task_521_plain_liver_raw/LIDC_IDRI_0698/segmentation.nii.gz \n",
      "\n",
      "\n",
      "\n"
     ]
    }
   ],
   "source": [
    "import shutil\n",
    "\n",
    "\n",
    "targ_dir = 'nnUNet_raw_data_base/nnUNet_raw_data/Task_521_plain_liver_raw/'\n",
    "for idx, path in enumerate(train_images):\n",
    "#     print(idx,path,'\\n')\n",
    "    img_name = path.split('/')[-1]\n",
    "    indices = [i for i, c in enumerate(img_name) if c == '_']\n",
    "    case_id = img_name[:indices[2]]\n",
    "    print(case_id)\n",
    "    case_dir = targ_dir + case_id + '/'\n",
    "    if not os.path.exists(case_dir):\n",
    "        os.mkdir(case_dir)\n",
    "    img_path = train_images[idx] \n",
    "    targ_img_path = case_dir + 'imaging.nii.gz'\n",
    "    seg_path = train_labels[idx] \n",
    "    targ_seg_path = case_dir + 'segmentation.nii.gz'\n",
    "    \n",
    "    print('img_path:::',img_path, '\\n seg_path:::',seg_path,'\\n')\n",
    "    \n",
    "    print('targ_img_path:::',targ_img_path, '\\n targ_seg_path:::',targ_seg_path,'\\n\\n\\n')\n",
    "    \n",
    "    shutil.copy(img_path, targ_img_path)\n",
    "    shutil.copy(seg_path, targ_seg_path)"
   ]
  },
  {
   "cell_type": "code",
   "execution_count": null,
   "id": "4092e9f2",
   "metadata": {},
   "outputs": [],
   "source": []
  }
 ],
 "metadata": {
  "kernelspec": {
   "display_name": "Python [conda env:liverfat]",
   "language": "python",
   "name": "conda-env-liverfat-py"
  },
  "language_info": {
   "codemirror_mode": {
    "name": "ipython",
    "version": 3
   },
   "file_extension": ".py",
   "mimetype": "text/x-python",
   "name": "python",
   "nbconvert_exporter": "python",
   "pygments_lexer": "ipython3",
   "version": "3.8.5"
  }
 },
 "nbformat": 4,
 "nbformat_minor": 5
}
